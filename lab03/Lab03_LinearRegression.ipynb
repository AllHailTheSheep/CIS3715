{
 "cells": [
  {
   "cell_type": "markdown",
   "metadata": {},
   "source": [
    "# Lab 3: Linear Regression"
   ]
  },
  {
   "cell_type": "markdown",
   "metadata": {},
   "source": [
    "In this assignment, we will learn the Linear Regression model. \n",
    "\n",
    "First, please study the given example, which uses linear regression for the house price prediction task. In this example, you will learn how to preprocess data, how to train the model, and how to evaluate the model. \n",
    "\n",
    "Based on the given example and Lab Assignment 2, your task is to use the linear regression model to predict the medical cost for the dataset given in Lab Assignment 2. "
   ]
  },
  {
   "cell_type": "markdown",
   "metadata": {},
   "source": [
    "## 1. Example: Linear Regression for House Price Prediction"
   ]
  },
  {
   "cell_type": "markdown",
   "metadata": {},
   "source": [
    "In this example, we use the house price dataset. It gives the attributes and price of each house. The task is to build a linear regression model to make prediction for the price of the house."
   ]
  },
  {
   "cell_type": "markdown",
   "metadata": {},
   "source": [
    "### 1.1 Preprocess the raw data\n",
    "\n",
    "When given a new dataset, we need to deal with the missing values and categorical features. "
   ]
  },
  {
   "cell_type": "code",
   "execution_count": 30,
   "metadata": {},
   "outputs": [
    {
     "name": "stdout",
     "output_type": "stream",
     "text": [
      "longitude             0\n",
      "latitude              0\n",
      "housing_median_age    0\n",
      "total_rooms           0\n",
      "total_bedrooms        0\n",
      "population            0\n",
      "households            0\n",
      "median_income         0\n",
      "median_house_value    0\n",
      "ocean_proximity       0\n",
      "dtype: int64\n",
      "<class 'pandas.core.frame.DataFrame'>\n",
      "RangeIndex: 20640 entries, 0 to 20639\n",
      "Data columns (total 10 columns):\n",
      " #   Column              Non-Null Count  Dtype  \n",
      "---  ------              --------------  -----  \n",
      " 0   longitude           20640 non-null  float64\n",
      " 1   latitude            20640 non-null  float64\n",
      " 2   housing_median_age  20640 non-null  int64  \n",
      " 3   total_rooms         20640 non-null  int64  \n",
      " 4   total_bedrooms      20640 non-null  float64\n",
      " 5   population          20640 non-null  int64  \n",
      " 6   households          20640 non-null  int64  \n",
      " 7   median_income       20640 non-null  float64\n",
      " 8   median_house_value  20640 non-null  int64  \n",
      " 9   ocean_proximity     20640 non-null  int64  \n",
      "dtypes: float64(4), int64(6)\n",
      "memory usage: 1.6 MB\n",
      "None\n"
     ]
    }
   ],
   "source": [
    "import pandas as pd\n",
    "import numpy as np\n",
    "from sklearn.preprocessing import LabelEncoder\n",
    "from sklearn.model_selection import train_test_split\n",
    "from sklearn.preprocessing import StandardScaler\n",
    "from sklearn.linear_model import LinearRegression, Ridge, Lasso\n",
    "from sklearn.metrics import mean_absolute_error,mean_squared_error\n",
    "import matplotlib.pyplot as plt\n",
    "\n",
    "\n",
    "df = pd.read_csv('housing.csv')\n",
    "\n",
    "# 0. fill in missing values\n",
    "mean_val = df['total_bedrooms'].mean()\n",
    "df['total_bedrooms'] = df['total_bedrooms'].fillna(mean_val)\n",
    "print(df.isnull().sum())\n",
    "\n",
    "# 1. convert categorical features to numerical values\n",
    "labelencoder = LabelEncoder()\n",
    "df['ocean_proximity'] = labelencoder.fit_transform(df['ocean_proximity'])\n",
    "print(df.info())"
   ]
  },
  {
   "cell_type": "markdown",
   "metadata": {},
   "source": [
    "### 1.2 Split the preprocessed dataset into training set and testing set\n",
    "\n",
    "For the supervised learning, we need to split the dataset into the training set and test set. The training set is used to learn model parameters and the testing set is used to evaluate the learned model. \n",
    "\n",
    "Note that the testing set is NOT allowed to be used in the training phase. "
   ]
  },
  {
   "cell_type": "code",
   "execution_count": 31,
   "metadata": {},
   "outputs": [
    {
     "name": "stdout",
     "output_type": "stream",
     "text": [
      "(16512, 9)\n",
      "(4128, 9)\n"
     ]
    }
   ],
   "source": [
    "# 2. split samples\n",
    "house_fea = df.drop('median_house_value', axis=1).values\n",
    "house_price = df['median_house_value'].values\n",
    "house_price = house_price / np.max(house_price)\n",
    "\n",
    "X_train,X_test,y_train,y_test = train_test_split(house_fea,\n",
    "                                                 house_price,\n",
    "                                                 test_size=0.2,\n",
    "                                                 random_state=42)\n",
    "print(X_train.shape)\n",
    "print(X_test.shape)\n",
    "\n",
    "\n",
    "# normalize features\n",
    "normalizer = StandardScaler()\n",
    "X_train = normalizer.fit_transform(X_train)\n",
    "X_test = normalizer.transform(X_test)"
   ]
  },
  {
   "cell_type": "markdown",
   "metadata": {},
   "source": [
    "### 1.3 Train the linear regression model \n",
    "\n",
    "$\\min_{w}\\frac{1}{n}\\|y-X\\mathbf{w}\\|_2^2$\n",
    "\n",
    "\n",
    "\n",
    "Here, we use the training set to learn the model parameter $\\mathbf{w}=(w_0, w_1, w_2, \\cdots, w_d)$. \n",
    "\n",
    "Then, we compute MAE, MSE, and RMSE to see how well the learned model fit the training set. "
   ]
  },
  {
   "cell_type": "code",
   "execution_count": 32,
   "metadata": {},
   "outputs": [
    {
     "name": "stdout",
     "output_type": "stream",
     "text": [
      "bias is 0.41438855869860675\n",
      "coefficients  is [-0.17170955 -0.18189176  0.02984855 -0.0353864   0.09753502 -0.08776816\n",
      "  0.03520256  0.15428789 -0.00090304]\n",
      "prediction for training set:\n",
      "MAE is: 0.10125365457873205\n",
      "MSE is: 0.0192437559440504\n",
      "RMSE is: 0.13872186541439818\n"
     ]
    }
   ],
   "source": [
    "#3. train the model\n",
    "lr = LinearRegression()\n",
    "\n",
    "lr.fit(X_train,y_train)\n",
    "\n",
    "print(\"bias is \"+str(lr.intercept_))\n",
    "print(\"coefficients  is \"+str(lr.coef_))\n",
    "\n",
    "y_train_pred = lr.predict(X_train)\n",
    "\n",
    "mae = mean_absolute_error(y_train_pred,y_train)\n",
    "mse = mean_squared_error(y_train_pred,y_train)\n",
    "rmse = np.sqrt(mse)\n",
    "\n",
    "print('prediction for training set:')\n",
    "print('MAE is: {}'.format(mae))\n",
    "print('MSE is: {}'.format(mse))\n",
    "print('RMSE is: {}'.format(rmse))\n"
   ]
  },
  {
   "cell_type": "markdown",
   "metadata": {},
   "source": [
    "### 1.4 Evaluate the linear regression model\n",
    "\n",
    "After obtaining the model parameter $\\mathbf{w}=(w_0, w_1, w_2, \\cdots, w_d)$, the linear regression model is determined. Then, we need to evaluate this model to see how well this model generaizes on the testing set. "
   ]
  },
  {
   "cell_type": "code",
   "execution_count": 33,
   "metadata": {},
   "outputs": [
    {
     "name": "stdout",
     "output_type": "stream",
     "text": [
      "prediction for testing set:\n",
      "MAE is: 0.10369354831097968\n",
      "MSE is: 0.020220019584503236\n",
      "RMSE is: 0.14219711524677017\n"
     ]
    },
    {
     "data": {
      "image/png": "[encoded data removed]",
      "text/plain": [
       "<Figure size 640x480 with 1 Axes>"
      ]
     },
     "metadata": {},
     "output_type": "display_data"
    }
   ],
   "source": [
    "#4. evaluate the model\n",
    "y_test_pred = lr.predict(X_test)\n",
    "\n",
    "mae = mean_absolute_error(y_test_pred,y_test)\n",
    "mse = mean_squared_error(y_test_pred,y_test)\n",
    "rmse = np.sqrt(mse)\n",
    "\n",
    "print('prediction for testing set:')\n",
    "print('MAE is: {}'.format(mae))\n",
    "print('MSE is: {}'.format(mse))\n",
    "print('RMSE is: {}'.format(rmse))\n",
    "\n",
    "\n",
    "labels = ['House1', 'House2', 'House3', 'House4', 'House5']\n",
    "x = np.arange(len(labels))  # the label locations\n",
    "width = 0.35  # the width of the bars\n",
    "\n",
    "fig, ax = plt.subplots()\n",
    "rects1 = ax.bar(x - width/2, y_test[0:5], width, label='ground truth')\n",
    "rects2 = ax.bar(x + width/2, y_test_pred[0:5], width, label='prediction')\n",
    "\n",
    "ax.set_ylabel('Price')\n",
    "ax.set_xticks(x)\n",
    "ax.set_xticklabels(labels)\n",
    "ax.legend()\n",
    "\n",
    "plt.show()\n"
   ]
  },
  {
   "cell_type": "markdown",
   "metadata": {},
   "source": [
    "## 2. Task: Linear Regression for Medical Cost Prediction\n",
    "\n",
    "Following the given example, build a linear regression model for [the insurance dataset](./insurance.csv) to predict the medical cost.  \n"
   ]
  },
  {
   "cell_type": "markdown",
   "metadata": {},
   "source": [
    "### 2.1 Preprocess the raw data\n",
    "\n",
    "Based on your Lab Assignment 2, deal with the missing values and categorical features. "
   ]
  },
  {
   "cell_type": "code",
   "execution_count": 34,
   "metadata": {},
   "outputs": [],
   "source": [
    "# your code\n",
    "import pandas as pd\n",
    "import numpy as np\n",
    "from sklearn.preprocessing import LabelEncoder\n",
    "\n",
    "df = pd.read_csv(\"insurance.csv\")\n",
    "\n",
    "# encode labels\n",
    "le = LabelEncoder()\n",
    "df['sex'] = le.fit_transform(df['sex'])\n",
    "df['smoker'] = le.fit_transform(df['smoker'])\n",
    "df['region'] = le.fit_transform(df['region'])\n",
    "\n",
    "# normalize numerical features\n",
    "# age = df['age']\n",
    "# age_mean = np.mean(age, axis=0)\n",
    "# age_std = np.std(age, axis=0)\n",
    "# df['age'] = (age - age_mean)/age_std\n",
    "\n",
    "# bmi = df['bmi']\n",
    "# bmi_mean = np.mean(bmi, axis=0)\n",
    "# bmi_std = np.std(bmi, axis=0)\n",
    "# df['bmi'] = (bmi - bmi_mean)/bmi_std\n",
    "\n",
    "# children = df['children']\n",
    "# children_mean = np.mean(children, axis=0)\n",
    "# children_std = np.std(children, axis=0)\n",
    "# df['children'] = (children - children_mean)/children_std\n",
    "\n",
    "# charges = df['charges']\n",
    "# charges_mean = np.mean(charges, axis=0)\n",
    "# charges_std = np.std(charges, axis=0)\n",
    "# df['charges'] = (charges - charges_mean)/charges_std"
   ]
  },
  {
   "cell_type": "markdown",
   "metadata": {},
   "source": [
    "### 1.2 Split the preprocessed dataset into training set and testing set\n",
    "\n",
    "Use 80% of samples as the training set and 20% of samples as the testing set"
   ]
  },
  {
   "cell_type": "code",
   "execution_count": 35,
   "metadata": {},
   "outputs": [],
   "source": [
    "# your code\n",
    "from sklearn.model_selection import train_test_split\n",
    "\n",
    "insurance_fea = df.drop('charges', axis=1).values\n",
    "charges = df['charges'].values\n",
    "charges = charges / np.max(charges)\n",
    "\n",
    "X_train, X_test, y_train, y_test = train_test_split(insurance_fea, charges, test_size=.2, random_state=69)"
   ]
  },
  {
   "cell_type": "markdown",
   "metadata": {},
   "source": [
    "### 1.3 Train the linear regression model \n",
    "\n",
    "Use the Linear regression model to do prediction\n",
    "\n",
    "$\\min_{w}\\frac{1}{n}\\|y-X\\mathbf{w}\\|_2^2$\n",
    "\n",
    "Please output the learned model parameter $\\mathbf{w}$ and see how the learned model fit the training set. "
   ]
  },
  {
   "cell_type": "code",
   "execution_count": 36,
   "metadata": {},
   "outputs": [
    {
     "name": "stdout",
     "output_type": "stream",
     "text": [
      "bias is -0.1896647103826326\n",
      "coefficients  is [ 0.00395434 -0.00334058  0.00543031  0.0084184   0.37151909 -0.00651242]\n",
      "prediction for training set:\n",
      "MAE is: 0.06400933924932241\n",
      "MSE is: 0.008516795360718319\n",
      "RMSE is: 0.09228648525498367\n"
     ]
    }
   ],
   "source": [
    "# your code\n",
    "from sklearn.linear_model import LinearRegression\n",
    "from sklearn.metrics import mean_absolute_error,mean_squared_error\n",
    "\n",
    "lr = LinearRegression()\n",
    "lr.fit(X_train, y_train)\n",
    "\n",
    "print(\"bias is \"+str(lr.intercept_))\n",
    "print(\"coefficients  is \"+str(lr.coef_))\n",
    "\n",
    "y_train_pred = lr.predict(X_train)\n",
    "\n",
    "mae = mean_absolute_error(y_train_pred,y_train)\n",
    "mse = mean_squared_error(y_train_pred,y_train)\n",
    "rmse = np.sqrt(mse)\n",
    "\n",
    "print('prediction for training set:')\n",
    "print('MAE is: {}'.format(mae))\n",
    "print('MSE is: {}'.format(mse))\n",
    "print('RMSE is: {}'.format(rmse))\n"
   ]
  },
  {
   "cell_type": "markdown",
   "metadata": {},
   "source": [
    "### 1.4 Evaluate the linear regression model\n",
    "\n",
    "\n",
    "Evaluate the learned model to see how well this model generaizes on the testing set. "
   ]
  },
  {
   "cell_type": "code",
   "execution_count": 37,
   "metadata": {},
   "outputs": [
    {
     "name": "stdout",
     "output_type": "stream",
     "text": [
      "prediction for testing set:\n",
      "MAE is: 0.0705732015964829\n",
      "MSE is: 0.0108978775214981\n",
      "RMSE is: 0.10439289976573167\n"
     ]
    },
    {
     "data": {
      "image/png": "[encoded data removed]",
      "text/plain": [
       "<Figure size 640x480 with 1 Axes>"
      ]
     },
     "metadata": {},
     "output_type": "display_data"
    }
   ],
   "source": [
    "# your code\n",
    "import matplotlib.pyplot as plt\n",
    "\n",
    "y_test_pred = lr.predict(X_test)\n",
    "\n",
    "mae = mean_absolute_error(y_test_pred,y_test)\n",
    "mse = mean_squared_error(y_test_pred,y_test)\n",
    "rmse = np.sqrt(mse)\n",
    "\n",
    "print('prediction for testing set:')\n",
    "print('MAE is: {}'.format(mae))\n",
    "print('MSE is: {}'.format(mse))\n",
    "print('RMSE is: {}'.format(rmse))\n",
    "\n",
    "\n",
    "labels = ['Patient1', 'Patient2', 'Patient3', 'Patient4', 'Patient5']\n",
    "x = np.arange(len(labels))  # the label locations\n",
    "width = 0.35  # the width of the bars\n",
    "\n",
    "fig, ax = plt.subplots()\n",
    "rects1 = ax.bar(x - width/2, y_test[0:5], width, label='ground truth')\n",
    "rects2 = ax.bar(x + width/2, y_test_pred[0:5], width, label='prediction')\n",
    "\n",
    "ax.set_ylabel('Charges')\n",
    "ax.set_xticks(x)\n",
    "ax.set_xticklabels(labels)\n",
    "ax.legend()\n",
    "\n",
    "plt.show()\n"
   ]
  },
  {
   "cell_type": "markdown",
   "metadata": {},
   "source": [
    "### 1.5 Use the ridge regression model to do prediction\n",
    "\n",
    "$\\min_{w}\\frac{1}{n}\\|y-Xw\\|_2^2 + \\lambda \\|w\\|_2^2$\n",
    "\n",
    "* 1.5.1 Compare its performance on the testing set with that of the standard linear regression model $\\min_{w}\\frac{1}{n}\\|y-Xw\\|_2^2$\n",
    "\n",
    "* 1.5.2 Use different $\\lambda$ to see how it affects the performance of the ridge regression  model on the testing set\n"
   ]
  },
  {
   "cell_type": "code",
   "execution_count": 38,
   "metadata": {},
   "outputs": [
    {
     "name": "stdout",
     "output_type": "stream",
     "text": [
      "bias is -0.18961098833227558\n",
      "coefficients  is [ 0.00395404 -0.00333121  0.00543019  0.00841836  0.37129962 -0.00651219]\n",
      "prediction for training set:\n",
      "MAE is: 0.06402260228562265\n",
      "MSE is: 0.008516802979903983\n",
      "RMSE is: 0.09228652653504726\n"
     ]
    },
    {
     "data": {
      "image/png": "[encoded data removed]",
      "text/plain": [
       "<Figure size 640x480 with 1 Axes>"
      ]
     },
     "metadata": {},
     "output_type": "display_data"
    },
    {
     "name": "stdout",
     "output_type": "stream",
     "text": [
      "bias is 0.003584431636015406\n",
      "coefficients  is [ 0.00312739  0.          0.00252084  0.          0.         -0.        ]\n",
      "prediction for training set:\n",
      "MAE is: 0.13701247757378848\n",
      "MSE is: 0.030857266477273836\n",
      "RMSE is: 0.17566236499966018\n"
     ]
    },
    {
     "data": {
      "image/png": "[encoded data removed]",
      "text/plain": [
       "<Figure size 640x480 with 1 Axes>"
      ]
     },
     "metadata": {},
     "output_type": "display_data"
    }
   ],
   "source": [
    "# your code\n",
    "from sklearn.linear_model import Ridge, Lasso\n",
    "\n",
    "\n",
    "lr = Ridge(alpha=.1)\n",
    "lr.fit(X_train, y_train)\n",
    "\n",
    "print(\"bias is \"+str(lr.intercept_))\n",
    "print(\"coefficients  is \"+str(lr.coef_))\n",
    "\n",
    "y_train_pred = lr.predict(X_train)\n",
    "\n",
    "mae = mean_absolute_error(y_train_pred,y_train)\n",
    "mse = mean_squared_error(y_train_pred,y_train)\n",
    "rmse = np.sqrt(mse)\n",
    "\n",
    "print('prediction for training set:')\n",
    "print('MAE is: {}'.format(mae))\n",
    "print('MSE is: {}'.format(mse))\n",
    "print('RMSE is: {}'.format(rmse))\n",
    "\n",
    "\n",
    "labels = ['Patient1', 'Patient2', 'Patient3', 'Patient4', 'Patient5']\n",
    "x = np.arange(len(labels))  # the label locations\n",
    "width = 0.35  # the width of the bars\n",
    "\n",
    "fig, ax = plt.subplots()\n",
    "rects1 = ax.bar(x - width/2, y_test[0:5], width, label='ground truth')\n",
    "rects2 = ax.bar(x + width/2, y_test_pred[0:5], width, label='prediction')\n",
    "\n",
    "ax.set_ylabel('Charges')\n",
    "ax.set_xticks(x)\n",
    "ax.set_xticklabels(labels)\n",
    "ax.legend()\n",
    "\n",
    "plt.show()\n",
    "\n",
    "lr = Lasso(alpha=.1)\n",
    "lr.fit(X_train, y_train)\n",
    "\n",
    "print(\"bias is \"+str(lr.intercept_))\n",
    "print(\"coefficients  is \"+str(lr.coef_))\n",
    "\n",
    "y_train_pred = lr.predict(X_train)\n",
    "\n",
    "mae = mean_absolute_error(y_train_pred,y_train)\n",
    "mse = mean_squared_error(y_train_pred,y_train)\n",
    "rmse = np.sqrt(mse)\n",
    "\n",
    "print('prediction for training set:')\n",
    "print('MAE is: {}'.format(mae))\n",
    "print('MSE is: {}'.format(mse))\n",
    "print('RMSE is: {}'.format(rmse))\n",
    "\n",
    "\n",
    "labels = ['Patient1', 'Patient2', 'Patient3', 'Patient4', 'Patient5']\n",
    "x = np.arange(len(labels))  # the label locations\n",
    "width = 0.35  # the width of the bars\n",
    "\n",
    "fig, ax = plt.subplots()\n",
    "rects1 = ax.bar(x - width/2, y_test[0:5], width, label='ground truth')\n",
    "rects2 = ax.bar(x + width/2, y_test_pred[0:5], width, label='prediction')\n",
    "\n",
    "ax.set_ylabel('Charges')\n",
    "ax.set_xticks(x)\n",
    "ax.set_xticklabels(labels)\n",
    "ax.legend()\n",
    "\n",
    "plt.show()\n",
    "\n",
    "# we see that lasso gives better results than ridge, which still gives better results than a regular regression as ridge and lasso provide an extra normalized term to help avoid overfitting"
   ]
  },
  {
   "cell_type": "code",
   "execution_count": null,
   "metadata": {},
   "outputs": [],
   "source": []
  }
 ],
 "metadata": {
  "kernelspec": {
   "display_name": ".venv",
   "language": "python",
   "name": "python3"
  },
  "language_info": {
   "codemirror_mode": {
    "name": "ipython",
    "version": 3
   },
   "file_extension": ".py",
   "mimetype": "text/x-python",
   "name": "python",
   "nbconvert_exporter": "python",
   "pygments_lexer": "ipython3",
   "version": "3.12.8"
  }
 },
 "nbformat": 4,
 "nbformat_minor": 2
}
